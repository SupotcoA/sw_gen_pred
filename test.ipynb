{
 "cells": [
  {
   "cell_type": "code",
   "execution_count": null,
   "id": "6757ac0e",
   "metadata": {},
   "outputs": [],
   "source": [
    "import torch\n",
    "from utils import calculate_num_params\n",
    "from model import ARModel\n",
    "\n",
    "transformer_config=dict(\n",
    "    inp_dim = 16,\n",
    "    dim = 32,\n",
    "    out_dim = 16,\n",
    "    num_layers = 4,\n",
    "    num_heads = 8,\n",
    "    ff_hidden_dim = 64,\n",
    "    max_seq_len = 512,\n",
    "    dropout = 0.0\n",
    ")\n",
    "\n",
    "mlp_config=dict(\n",
    "    in_channels=transformer_config['inp_dim'],\n",
    "    model_channels=32,\n",
    "    out_channels=transformer_config['inp_dim'],\n",
    "    z_channels=transformer_config['out_dim'],\n",
    "    num_res_blocks=2,\n",
    "    grad_checkpointing=False\n",
    ")\n",
    "\n",
    "diffusion_config=dict(\n",
    "    num_steps = 64\n",
    ")\n",
    "\n",
    "model = ARModel(transformer_config=transformer_config,\n",
    "                mlp_config=mlp_config,\n",
    "                diffusion_config=diffusion_config,\n",
    "                device=torch.device('cpu')\n",
    "                )"
   ]
  },
  {
   "cell_type": "code",
   "execution_count": 2,
   "id": "0b44af7c",
   "metadata": {},
   "outputs": [
    {
     "data": {
      "text/plain": [
       "66112"
      ]
     },
     "execution_count": 2,
     "metadata": {},
     "output_type": "execute_result"
    }
   ],
   "source": [
    "calculate_num_params(model)"
   ]
  },
  {
   "cell_type": "code",
   "execution_count": 3,
   "id": "22c2dfac",
   "metadata": {},
   "outputs": [],
   "source": [
    "x = torch.zeros([4, 64, 16])"
   ]
  },
  {
   "cell_type": "code",
   "execution_count": 4,
   "id": "28f2aa01",
   "metadata": {},
   "outputs": [],
   "source": [
    "loss = model.train_step(x)"
   ]
  },
  {
   "cell_type": "code",
   "execution_count": 5,
   "id": "ea7bb834",
   "metadata": {},
   "outputs": [
    {
     "data": {
      "text/plain": [
       "tensor(0.9938, grad_fn=<MeanBackward0>)"
      ]
     },
     "execution_count": 5,
     "metadata": {},
     "output_type": "execute_result"
    }
   ],
   "source": [
    "loss"
   ]
  },
  {
   "cell_type": "code",
   "execution_count": 6,
   "id": "f7d5d5ec",
   "metadata": {},
   "outputs": [],
   "source": [
    "x_ = model.gen(x, scope=3)"
   ]
  },
  {
   "cell_type": "code",
   "execution_count": 7,
   "id": "77035d36",
   "metadata": {},
   "outputs": [
    {
     "data": {
      "text/plain": [
       "torch.Size([4, 67, 16])"
      ]
     },
     "execution_count": 7,
     "metadata": {},
     "output_type": "execute_result"
    }
   ],
   "source": [
    "x_.shape"
   ]
  },
  {
   "cell_type": "code",
   "execution_count": 8,
   "id": "5792e38e",
   "metadata": {},
   "outputs": [
    {
     "data": {
      "text/plain": [
       "tensor([-0.4819,  0.3964, -1.0387])"
      ]
     },
     "execution_count": 8,
     "metadata": {},
     "output_type": "execute_result"
    }
   ],
   "source": [
    "x_[0,-3:,0]"
   ]
  }
 ],
 "metadata": {
  "kernelspec": {
   "display_name": "Python 3",
   "language": "python",
   "name": "python3"
  },
  "language_info": {
   "codemirror_mode": {
    "name": "ipython",
    "version": 3
   },
   "file_extension": ".py",
   "mimetype": "text/x-python",
   "name": "python",
   "nbconvert_exporter": "python",
   "pygments_lexer": "ipython3",
   "version": "3.9.6"
  }
 },
 "nbformat": 4,
 "nbformat_minor": 5
}
